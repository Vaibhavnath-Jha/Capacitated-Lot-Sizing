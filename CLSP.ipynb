{
 "cells": [
  {
   "cell_type": "markdown",
   "metadata": {},
   "source": [
    " ## Solving Capacitated Lot Sizing Problem using CPLEX's python module DOCPLEX"
   ]
  },
  {
   "cell_type": "code",
   "execution_count": 1,
   "metadata": {},
   "outputs": [],
   "source": [
    "import random as r\n",
    "import numpy as np\n",
    "import time\n",
    "\n",
    "r.seed(50)\n",
    "\n",
    "no_of_items = 10\n",
    "no_of_machines = 2\n",
    "no_of_period = 4\n",
    "\n",
    "# setting up the cost\n",
    "low_setup_time = np.asarray([int(r.uniform(a=10,b=50)) for i in range(no_of_items*no_of_machines)])\n",
    "high_setup_time = 1.5*low_setup_time\n",
    "\n",
    "low_setup_cost = np.asarray([int(r.uniform(a=5,b=95)) for i in range(no_of_items*no_of_machines)])\n",
    "high_setup_cost = 10*low_setup_cost\n",
    "\n",
    "unit_production_cost = [round(r.uniform(a=1.5,b=2.5), 2) for i in range(no_of_items*no_of_machines)]\n",
    "unit_inventory_cost = [round(r.uniform(a=0.2,b=0.4),2) for i in range(no_of_items*no_of_period)]\n",
    "unit_production_time = [int(r.uniform(a=1,b=5)) for i in range(no_of_items*no_of_machines)]\n",
    "\n",
    "demand = [round(r.uniform(a=1,b=180)) for i in range(no_of_items*no_of_period)]"
   ]
  },
  {
   "cell_type": "code",
   "execution_count": 2,
   "metadata": {},
   "outputs": [],
   "source": [
    "# Assigning Costs:\n",
    "\n",
    "Item_list = [i for i in range(1,no_of_items+1)]\n",
    "Machine_list = [j for j in range(1,no_of_machines+1)]\n",
    "Period_list = [t for t in range(1,no_of_period+1)]\n",
    "\n",
    "item_machine_pair = [(i,j) for i in Item_list for j in Machine_list]\n",
    "item_period_pair = [(i,t) for i in Item_list for t in Period_list]\n",
    "machine_period_pair = [(j,t) for j in Machine_list for t in Period_list]\n",
    "\n",
    "Bij = {(i,j): s for (i,j),s in zip(item_machine_pair,unit_production_time)}   # Unit production time of item i on machine j;\n",
    "Cij = {(i,j): s for (i,j),s in zip(item_machine_pair,unit_production_cost)}   # Unit production cost of item i on machine j;\n",
    "Hi = {i: s for i,s in zip(Item_list,unit_inventory_cost)}                     # Unit inventory cost of item i per period;\n",
    "Dit = {(i,t): s for (i,t),s in zip(item_period_pair,demand)}                  # Demand of item i at period t;\n",
    "Fij = {(i,j): s for (i,j),s in zip(item_machine_pair,low_setup_time)}         # Setup time of item i on machine j;\n",
    "Sij = {(i,j): s for (i,j),s in zip(item_machine_pair,low_setup_cost)}         # Setup cost of item i on machine j."
   ]
  },
  {
   "cell_type": "code",
   "execution_count": 3,
   "metadata": {},
   "outputs": [],
   "source": [
    "# Instanciating the variables:\n",
    "\n",
    "Vars = [(items,machines,periods) for items in Item_list for machines in Machine_list for periods in Period_list]"
   ]
  },
  {
   "cell_type": "code",
   "execution_count": 4,
   "metadata": {},
   "outputs": [],
   "source": [
    "from docplex.mp.model import Model"
   ]
  },
  {
   "cell_type": "code",
   "execution_count": 5,
   "metadata": {},
   "outputs": [],
   "source": [
    "# Initializing the Model:\n",
    "\n",
    "mip = Model('Capacitated Lot Sizing Problem')"
   ]
  },
  {
   "cell_type": "code",
   "execution_count": 6,
   "metadata": {},
   "outputs": [],
   "source": [
    "# Declaring decision variables:\n",
    "\n",
    "X = mip.integer_var_dict(Vars, lb=0, name='x')\n",
    "Y = mip.binary_var_dict(Vars,name='y')\n",
    "S = mip.integer_var_dict(item_period_pair, lb=0, name='s')"
   ]
  },
  {
   "cell_type": "code",
   "execution_count": 7,
   "metadata": {},
   "outputs": [],
   "source": [
    "# Averaging out demand of each item per period in order to calculate capacity of each machine per period:\n",
    "\n",
    "Cap = mip.sum(((Dit[i,t]/no_of_machines)*Bij[i,j]) + Fij[i,j] for i,j,t in X)                       \n",
    "capacity_per_period = [int((Cap/(no_of_machines*no_of_period)).constant)]\n",
    "Qj = {j: s for j,s in zip(Machine_list,capacity_per_period*no_of_period)}           # Capacity of machine j per period;\n",
    "M = max(capacity_per_period)                                                        # Maximum capacity of machines per period."
   ]
  },
  {
   "cell_type": "code",
   "execution_count": 8,
   "metadata": {},
   "outputs": [],
   "source": [
    "cost_list = [Bij,Cij,Hi,Dit,Fij,Sij,Qj,M]"
   ]
  },
  {
   "cell_type": "code",
   "execution_count": 9,
   "metadata": {},
   "outputs": [],
   "source": [
    "# Constraints:\n",
    "\n",
    "# constraint_1 ensure that the demand of each item in each period should be satisfied \n",
    "constraint_1 = mip.add_constraints(mip.sum(X[i,j,t] for j in range(1,no_of_machines+1)) + (-S[i,t] + S[i,t-1] if t-1 > 0 else -S[i,t]) == Dit[i,t] for i,t in S)\n",
    "\n",
    "# constraint_2 restrict the production capacity for each machine j at each period t\n",
    "constraint_2 = mip.add_constraints(mip.sum(Bij[i,j]*X[i,j,t] + Fij[i,j]*Y[i,j,t] for i in range(1,no_of_items+1)) <= Qj[j] for j,t in zip(Machine_list,Period_list))\n",
    "\n",
    "# constraint_3 impose the setup cost on machine j at period t for item i when Xijt is positive.\n",
    "constraint_3 = mip.add_constraints(X[i,j,t] <= M*Y[i,j,t] for i,j,t in X)"
   ]
  },
  {
   "cell_type": "code",
   "execution_count": 10,
   "metadata": {},
   "outputs": [],
   "source": [
    "# Objective function:\n",
    "\n",
    "setup_cost = mip.sum(Sij[i,j]*Y[i,j,t] for i,j,t in Y) \n",
    "production_cost = mip.sum(Cij[i,j]*X[i,j,t] for i,j,t in X)\n",
    "inventory_cost = mip.sum(Hi[i]*S[i,t] for i,t in S)\n",
    "total_cost = setup_cost + production_cost + inventory_cost"
   ]
  },
  {
   "cell_type": "code",
   "execution_count": 11,
   "metadata": {},
   "outputs": [],
   "source": [
    "# Goal:\n",
    "\n",
    "mip.minimize(total_cost)"
   ]
  },
  {
   "cell_type": "code",
   "execution_count": 12,
   "metadata": {},
   "outputs": [
    {
     "name": "stdout",
     "output_type": "stream",
     "text": [
      "CPXPARAM_Read_DataCheck                          1\n",
      "Found incumbent of value 8610.040000 after 0.02 sec. (0.02 ticks)\n",
      "Tried aggregator 1 time.\n",
      "MIP Presolve eliminated 10 rows and 0 columns.\n",
      "MIP Presolve added 20 rows and 0 columns.\n",
      "MIP Presolve modified 54 coefficients.\n",
      "Reduced MIP has 132 rows, 200 columns, and 370 nonzeros.\n",
      "Reduced MIP has 80 binaries, 120 generals, 0 SOSs, and 0 indicators.\n",
      "Presolve time = 0.06 sec. (0.43 ticks)\n",
      "Probing fixed 0 vars, tightened 20 bounds.\n",
      "Probing time = 0.00 sec. (0.15 ticks)\n",
      "Tried aggregator 2 times.\n",
      "MIP Presolve modified 30 coefficients.\n",
      "Aggregator did 1 substitutions.\n",
      "Reduced MIP has 131 rows, 199 columns, and 368 nonzeros.\n",
      "Reduced MIP has 80 binaries, 119 generals, 0 SOSs, and 0 indicators.\n",
      "Presolve time = 0.00 sec. (0.41 ticks)\n",
      "Probing time = 0.00 sec. (0.12 ticks)\n",
      "Clique table members: 10.\n",
      "MIP emphasis: balance optimality and feasibility.\n",
      "MIP search method: dynamic search.\n",
      "Parallel mode: deterministic, using up to 8 threads.\n",
      "Root relaxation solution time = 0.03 sec. (0.26 ticks)\n",
      "\n",
      "        Nodes                                         Cuts/\n",
      "   Node  Left     Objective  IInf  Best Integer    Best Bound    ItCnt     Gap\n",
      "\n",
      "*     0+    0                         8610.0400        0.0000           100.00%\n",
      "      0     0     6919.5896    38     8610.0400     6919.5896       60   19.63%\n",
      "      0     0     8037.4790    53     8610.0400     Cuts: 121      126    6.65%\n",
      "      0     0     8116.2839    20     8610.0400      Cuts: 42      143    5.73%\n",
      "*     0+    0                         8382.7400     8116.2839             3.18%\n",
      "      0     0     8127.1940    37     8382.7400      Cuts: 10      153    3.05%\n",
      "      0     0     8149.5245    12     8382.7400      Cuts: 11      161    2.78%\n",
      "*     0+    0                         8278.0400     8149.5245             1.55%\n",
      "      0     0     8150.6900    10     8278.0400   Impl Bds: 2      163    1.54%\n",
      "      0     0     8150.8628    12     8278.0400       Cuts: 3      165    1.54%\n",
      "*     0+    0                         8276.2400     8150.8628             1.51%\n",
      "      0     0     8152.2049     8     8276.2400       Cuts: 3      167    1.50%\n",
      "*     0+    0                         8274.9000     8152.2049             1.48%\n",
      "*     0+    0                         8274.2900     8152.2049             1.48%\n",
      "*     0+    0                         8156.8100     8152.2049             0.06%\n",
      "      0     2     8152.2049     8     8156.8100     8152.2049      167    0.06%\n",
      "Elapsed time = 0.23 sec. (14.12 ticks, tree = 0.02 MB, solutions = 7)\n",
      "\n",
      "Cover cuts applied:  10\n",
      "Implied bound cuts applied:  17\n",
      "Flow cuts applied:  50\n",
      "Mixed integer rounding cuts applied:  18\n",
      "Flow path cuts applied:  14\n",
      "Zero-half cuts applied:  1\n",
      "Lift and project cuts applied:  4\n",
      "Gomory fractional cuts applied:  35\n",
      "\n",
      "Root node processing (before b&c):\n",
      "  Real time             =    0.25 sec. (13.99 ticks)\n",
      "Parallel b&c, 8 threads:\n",
      "  Real time             =    0.02 sec. (1.73 ticks)\n",
      "  Sync time (average)   =    0.01 sec.\n",
      "  Wait time (average)   =    0.00 sec.\n",
      "                          ------------\n",
      "Total (root+branch&cut) =    0.27 sec. (15.73 ticks)\n"
     ]
    }
   ],
   "source": [
    "solution = mip.solve(log_output=True)\n",
    "assert solution is not None\n",
    "value = round(solution.objective_value,2)"
   ]
  },
  {
   "cell_type": "code",
   "execution_count": 13,
   "metadata": {},
   "outputs": [
    {
     "name": "stdout",
     "output_type": "stream",
     "text": [
      "The objective function value is: 8156.81\n"
     ]
    }
   ],
   "source": [
    "print(\"The objective function value is: {}\".format(value))"
   ]
  },
  {
   "cell_type": "markdown",
   "metadata": {},
   "source": [
    "#### *Checking if items produced are actually produced on respective machine*"
   ]
  },
  {
   "cell_type": "code",
   "execution_count": 14,
   "metadata": {},
   "outputs": [
    {
     "data": {
      "text/plain": [
       "'All cases matched.'"
      ]
     },
     "execution_count": 14,
     "metadata": {},
     "output_type": "execute_result"
    }
   ],
   "source": [
    "from ipynb.fs.full.Solution_Checker import checker\n",
    "checker(solution,X,Y)"
   ]
  },
  {
   "cell_type": "markdown",
   "metadata": {},
   "source": [
    "#### *Solving with Lagrangian Relaxation*"
   ]
  },
  {
   "cell_type": "code",
   "execution_count": 15,
   "metadata": {},
   "outputs": [
    {
     "name": "stdout",
     "output_type": "stream",
     "text": [
      "1> new lagrangian iteration:\n",
      "\t obj=8190.37, m=[1, 1, 1, 1, 1, 1, 1, 1], p=[0, 0, 0, 0, 0, 1.0, 0, 0]\n",
      "1> -- loop continues, m=[1.0, 1.0, 1.0, 1.0, 1.0, 0.0, 1.0, 1.0], justifier=1\n",
      "2> new lagrangian iteration:\n",
      "\t obj=8190.29, m=[1.0, 1.0, 1.0, 1.0, 1.0, 0.0, 1.0, 1.0], p=[0, 0, 0, 0, 0, 1.0000000000019624, 0, 0]\n",
      "* Lagrangian relaxation succeeds, best_solution=8190.29, penalty=1, #iterations=2\n",
      "\n",
      "Upper bound of the problem = 8190.290000000001\n"
     ]
    }
   ],
   "source": [
    "from ipynb.fs.full.Lagrangian_relaxed_model import Lagrangian_relaxation\n",
    "output = Lagrangian_relaxation(cost_list,Vars,no_of_items,no_of_machines,no_of_period)\n",
    "\n",
    "print(\"\\nUpper bound of the problem = {}\".format(output.objective_value))"
   ]
  },
  {
   "cell_type": "code",
   "execution_count": 16,
   "metadata": {},
   "outputs": [],
   "source": [
    "time.sleep(2)"
   ]
  },
  {
   "cell_type": "markdown",
   "metadata": {},
   "source": [
    "#### *Solving the classical problem with lower bound solution obtained from Lagrangian relaxed model*"
   ]
  },
  {
   "cell_type": "code",
   "execution_count": 17,
   "metadata": {},
   "outputs": [],
   "source": [
    "relaxed_solution = mip.read_mip_starts(\"clsp_-with-_lagrangian_relaxation.mst\")"
   ]
  },
  {
   "cell_type": "code",
   "execution_count": 18,
   "metadata": {},
   "outputs": [
    {
     "name": "stdout",
     "output_type": "stream",
     "text": [
      "CPXPARAM_Read_DataCheck                          1\n",
      "Warning:  No solution found from 8 MIP starts.\n",
      "\n",
      "Root node processing (before b&c):\n",
      "  Real time             =    0.03 sec. (0.07 ticks)\n",
      "Parallel b&c, 8 threads:\n",
      "  Real time             =    0.00 sec. (0.00 ticks)\n",
      "  Sync time (average)   =    0.00 sec.\n",
      "  Wait time (average)   =    0.00 sec.\n",
      "                          ------------\n",
      "Total (root+branch&cut) =    0.03 sec. (0.07 ticks)\n",
      "\n",
      "Optimal! and Obejctive value is: 8156.81\n"
     ]
    }
   ],
   "source": [
    "new_solution = mip.solve(log_output=True)\n",
    "new_obj_val = round(new_solution.objective_value,2)\n",
    "if new_obj_val == value: print(\"\\nOptimal! and Obejctive value is: {}\".format(new_obj_val))"
   ]
  }
 ],
 "metadata": {
  "kernelspec": {
   "display_name": "Python 3",
   "language": "python",
   "name": "python3"
  },
  "language_info": {
   "codemirror_mode": {
    "name": "ipython",
    "version": 3
   },
   "file_extension": ".py",
   "mimetype": "text/x-python",
   "name": "python",
   "nbconvert_exporter": "python",
   "pygments_lexer": "ipython3",
   "version": "3.7.5"
  }
 },
 "nbformat": 4,
 "nbformat_minor": 2
}
