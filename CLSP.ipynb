{
 "cells": [
  {
   "cell_type": "markdown",
   "metadata": {},
   "source": [
    " ### Solving Capacitated Lot Sizing Problem using CPLEX's python module DOCPLEX"
   ]
  },
  {
   "cell_type": "code",
   "execution_count": 1018,
   "metadata": {},
   "outputs": [],
   "source": [
    "import random as r\n",
    "import numpy as np\n",
    "\n",
    "r.seed(50)\n",
    "\n",
    "no_of_items = 18\n",
    "no_of_machines = 4\n",
    "no_of_period = 6\n",
    "\n",
    "# setting up the cost\n",
    "low_setup_time = np.asarray([int(r.uniform(a=10,b=50)) for i in range(no_of_items*no_of_machines)])\n",
    "high_setup_time = 1.5*low_setup_time\n",
    "\n",
    "low_setup_cost = np.asarray([int(r.uniform(a=5,b=95)) for i in range(no_of_items*no_of_machines)])\n",
    "high_setup_cost = 10*low_setup_cost\n",
    "\n",
    "unit_production_cost = [round(r.uniform(a=1.5,b=2.5), 2) for i in range(no_of_items*no_of_machines)]\n",
    "unit_inventory_cost = [round(r.uniform(a=0.2,b=0.4),2) for i in range(no_of_items*no_of_period)]\n",
    "unit_production_time = [int(r.uniform(a=1,b=5)) for i in range(no_of_items*no_of_machines)]\n",
    "\n",
    "demand = [round(r.uniform(a=1,b=180)) for i in range(no_of_items*no_of_period)]"
   ]
  },
  {
   "cell_type": "code",
   "execution_count": 1019,
   "metadata": {},
   "outputs": [],
   "source": [
    "# Assigning Costs:\n",
    "\n",
    "Item_list = [i for i in range(1,no_of_items+1)]\n",
    "Machine_list = [j for j in range(1,no_of_machines+1)]\n",
    "Period_list = [t for t in range(1,no_of_period+1)]\n",
    "\n",
    "item_machine_pair = [(i,j) for i in Item_list for j in Machine_list]\n",
    "item_period_pair = [(i,t) for i in Item_list for t in Period_list]\n",
    "machine_period_pair = [(j,t) for j in Machine_list for t in Period_list]\n",
    "\n",
    "Bij = {(i,j): s for (i,j),s in zip(item_machine_pair,unit_production_time)}   # Unit production time of item i on machine j;\n",
    "Cij = {(i,j): s for (i,j),s in zip(item_machine_pair,unit_production_cost)}   # Unit production cost of item i on machine j;\n",
    "Hit = {(i,t): s for (i,t),s in zip(item_period_pair,unit_inventory_cost)}     # Unit inventory cost of item i per period t;\n",
    "Dit = {(i,t): s for (i,t),s in zip(item_period_pair,demand)}                  # Demand of item i at period t;\n",
    "Fij = {(i,j): s for (i,j),s in zip(item_machine_pair,low_setup_time)}         # Setup time of item i on machine j;\n",
    "Sij = {(i,j): s for (i,j),s in zip(item_machine_pair,low_setup_cost)}         # Setup cost of item i on machine j."
   ]
  },
  {
   "cell_type": "code",
   "execution_count": 1020,
   "metadata": {},
   "outputs": [],
   "source": [
    "# Instanciating the variables:\n",
    "\n",
    "Vars = []\n",
    "for items in Item_list:\n",
    "    for machines in Machine_list:\n",
    "        for periods in Period_list:\n",
    "            Vars.append((items,machines,periods))\n",
    "            \n",
    "Inventory_vars = []\n",
    "for items in Item_list:\n",
    "    for periods in Period_list:\n",
    "        Inventory_vars.append((items,periods))"
   ]
  },
  {
   "cell_type": "code",
   "execution_count": 1021,
   "metadata": {},
   "outputs": [],
   "source": [
    "from docplex.mp.model import Model"
   ]
  },
  {
   "cell_type": "code",
   "execution_count": 1022,
   "metadata": {},
   "outputs": [],
   "source": [
    "# Initializing the Model:\n",
    "\n",
    "mip = Model('Capacitated Lot Sizing Problem')"
   ]
  },
  {
   "cell_type": "code",
   "execution_count": 1023,
   "metadata": {},
   "outputs": [],
   "source": [
    "# Declaring decision variables:\n",
    "\n",
    "X = mip.integer_var_dict(Vars, lb=0, name='x')\n",
    "Y = mip.binary_var_dict(Vars,name='y')\n",
    "S = mip.integer_var_dict(Inventory_vars, lb=0, name='s')"
   ]
  },
  {
   "cell_type": "code",
   "execution_count": 1024,
   "metadata": {},
   "outputs": [],
   "source": [
    "# Averaging out demand of each item per period in order to calculate capacity of each machine per period:\n",
    "\n",
    "Cap = mip.sum(((Dit[i,t]/no_of_machines)*Bij[i,j]) + Fij[i,j] for i,j,t in X)                       \n",
    "capacity_per_period = []\n",
    "for i in range(1,no_of_period+1):\n",
    "    Q = int((Cap/(no_of_machines*i)).constant)      \n",
    "    capacity_per_period.append(Q)\n",
    "\n",
    "Qjt = {(j,t): s for (j,t),s in zip(machine_period_pair,capacity_per_period*no_of_period)}           # Capacity of machine j at period t;\n",
    "M = max(capacity_per_period)                                                                        # Maximum capacity of machines per period."
   ]
  },
  {
   "cell_type": "code",
   "execution_count": 1025,
   "metadata": {},
   "outputs": [],
   "source": [
    "# Constraints:\n",
    "\n",
    "# constraint_1 ensure that the demand of each item in each period should be satisfied \n",
    "constraint_1 = mip.add_constraints(mip.sum(X[i,j,t] for j in range(1,no_of_machines+1)) + (-S[i,t] + S[i,t-1] if t-1 > 0 else -S[i,t]) == Dit[i,t] for i,t in S)\n",
    "\n",
    "# constraint_2 restrict the production capacity for each machine j at each period t\n",
    "constraint_2 = mip.add_constraints(mip.sum(Bij[i,j]*X[i,j,t] + Fij[i,j]*Y[i,j,t] for i in range(1,no_of_items+1)) <= Qjt[j,t] for j,t in Qjt)\n",
    "\n",
    "# constraint_3 impose the setup cost on machine j at period t for item i when Xijt is positive.\n",
    "constraint_3 = mip.add_constraints(X[i,j,t] <= M*Y[i,j,t] for i,j,t in X)"
   ]
  },
  {
   "cell_type": "code",
   "execution_count": 1026,
   "metadata": {},
   "outputs": [],
   "source": [
    "# Objective function:\n",
    "\n",
    "setup_cost = mip.sum(Sij[i,j]*Y[i,j,t] for i,j,t in Y) \n",
    "production_cost = mip.sum(Cij[i,j]*X[i,j,t] for i,j,t in X)\n",
    "inventory_cost = mip.sum(Hit[i,t]*S[i,t] for i,t in S)\n",
    "total_cost = setup_cost + production_cost + inventory_cost"
   ]
  },
  {
   "cell_type": "code",
   "execution_count": 1027,
   "metadata": {},
   "outputs": [],
   "source": [
    "# Goal:\n",
    "\n",
    "mip.minimize(total_cost)"
   ]
  },
  {
   "cell_type": "code",
   "execution_count": 1028,
   "metadata": {},
   "outputs": [
    {
     "name": "stdout",
     "output_type": "stream",
     "text": [
      "Model: Capacitated Lot Sizing Problem\n",
      " - number of variables: 972\n",
      "   - binary=432, integer=540, continuous=0\n",
      " - number of constraints: 564\n",
      "   - linear=564\n",
      " - parameters: defaults\n",
      " - objective: minimize\n",
      " - problem type is: MILP\n"
     ]
    }
   ],
   "source": [
    "mip.print_information()"
   ]
  },
  {
   "cell_type": "code",
   "execution_count": 1029,
   "metadata": {},
   "outputs": [
    {
     "name": "stdout",
     "output_type": "stream",
     "text": [
      "CPXPARAM_Read_DataCheck                          1\n",
      "Tried aggregator 1 time.\n",
      "MIP Presolve eliminated 18 rows and 0 columns.\n",
      "MIP Presolve added 36 rows and 0 columns.\n",
      "MIP Presolve modified 900 coefficients.\n",
      "Reduced MIP has 582 rows, 972 columns, and 2394 nonzeros.\n",
      "Reduced MIP has 432 binaries, 540 generals, 0 SOSs, and 0 indicators.\n",
      "Presolve time = 0.00 sec. (2.96 ticks)\n",
      "Found incumbent of value 57494.400000 after 0.00 sec. (6.44 ticks)\n",
      "Probing fixed 0 vars, tightened 36 bounds.\n",
      "Probing time = 0.01 sec. (1.18 ticks)\n",
      "Cover probing fixed 0 vars, tightened 15 bounds.\n",
      "Tried aggregator 1 time.\n",
      "MIP Presolve modified 54 coefficients.\n",
      "Reduced MIP has 582 rows, 972 columns, and 2394 nonzeros.\n",
      "Reduced MIP has 432 binaries, 540 generals, 0 SOSs, and 0 indicators.\n",
      "Presolve time = 0.00 sec. (1.79 ticks)\n",
      "Probing fixed 0 vars, tightened 3 bounds.\n",
      "Probing time = 0.02 sec. (1.11 ticks)\n",
      "MIP emphasis: balance optimality and feasibility.\n",
      "MIP search method: dynamic search.\n",
      "Parallel mode: deterministic, using up to 8 threads.\n",
      "Root relaxation solution time = 0.00 sec. (1.31 ticks)\n",
      "\n",
      "        Nodes                                         Cuts/\n",
      "   Node  Left     Objective  IInf  Best Integer    Best Bound    ItCnt     Gap\n",
      "\n",
      "*     0+    0                        57494.4000        0.0000           100.00%\n",
      "*     0+    0                        41434.4000        0.0000           100.00%\n",
      "      0     0    17187.9229   108    41434.4000    17187.9229      172   58.52%\n",
      "      0     0    18658.0912   109    41434.4000     Cuts: 245      302   54.97%\n",
      "      0     0    19141.0113   102    41434.4000     Cuts: 132      386   53.80%\n",
      "      0     0    19214.9547   101    41434.4000      Cuts: 44      429   53.63%\n",
      "      0     0    19291.7733    88    41434.4000      Cuts: 37      468   53.44%\n",
      "*     0+    0                        20607.9700    19291.7733             6.39%\n",
      "      0     0    19305.9369   112    20607.9700      Cuts: 18      499    6.32%\n",
      "      0     0    19337.2088    74    20607.9700      Cuts: 25      527    6.17%\n",
      "      0     0    19342.8765    48    20607.9700      Cuts: 28      552    6.14%\n",
      "      0     0    19343.2690    52    20607.9700       Cuts: 9      560    6.14%\n",
      "      0     0    19345.8058    56    20607.9700      Cuts: 10      575    6.12%\n",
      "      0     0    19345.8747    22    20607.9700       Cuts: 8      578    6.12%\n",
      "      0     0    19347.3009    35    20607.9700  Flowpaths: 2      582    6.12%\n",
      "*     0+    0                        19425.4100    19347.3009             0.40%\n",
      "*     0+    0                        19403.6800    19347.3009             0.29%\n",
      "*     0+    0                        19403.1100    19347.3009             0.29%\n",
      "*     0+    0                        19378.7500    19347.3009             0.16%\n",
      "      0     2    19347.3009    35    19378.7500    19347.3009      582    0.16%\n",
      "Elapsed time = 0.23 sec. (94.24 ticks, tree = 0.02 MB, solutions = 7)\n",
      "*    22+    3                        19378.7300    19348.2881             0.16%\n",
      "*    28+    3                        19374.6600    19348.2881             0.14%\n",
      "*   308+   53                        19373.4300    19364.7329             0.04%\n",
      "*   316    54      integral     0    19370.4900    19365.2347     1613    0.03%\n",
      "\n",
      "Cover cuts applied:  18\n",
      "Implied bound cuts applied:  27\n",
      "Flow cuts applied:  173\n",
      "Mixed integer rounding cuts applied:  20\n",
      "Flow path cuts applied:  76\n",
      "Zero-half cuts applied:  4\n",
      "Lift and project cuts applied:  2\n",
      "Gomory fractional cuts applied:  90\n",
      "\n",
      "Root node processing (before b&c):\n",
      "  Real time             =    0.23 sec. (93.77 ticks)\n",
      "Parallel b&c, 8 threads:\n",
      "  Real time             =    0.13 sec. (41.58 ticks)\n",
      "  Sync time (average)   =    0.05 sec.\n",
      "  Wait time (average)   =    0.00 sec.\n",
      "                          ------------\n",
      "Total (root+branch&cut) =    0.36 sec. (135.34 ticks)\n"
     ]
    }
   ],
   "source": [
    "solution = mip.solve(log_output=True)\n",
    "assert solution is not None\n",
    "value = solution.objective_value"
   ]
  },
  {
   "cell_type": "code",
   "execution_count": 1030,
   "metadata": {},
   "outputs": [
    {
     "name": "stdout",
     "output_type": "stream",
     "text": [
      "The objective function value is: 19370.49\n"
     ]
    }
   ],
   "source": [
    "print(\"The objective function value is: {}\".format(round(value,2)))"
   ]
  },
  {
   "cell_type": "code",
   "execution_count": 1031,
   "metadata": {},
   "outputs": [
    {
     "name": "stdout",
     "output_type": "stream",
     "text": [
      "The Solution details are:\n",
      "status  = integer optimal, tolerance\n",
      "time    = 0.391 s.\n",
      "problem = MILP\n",
      "gap     = 0.00948505%\n",
      "and it was solved by: cplex_local solver\n"
     ]
    }
   ],
   "source": [
    "print(\"The Solution details are:\\n{}and it was solved by: {} solver\".format(solution.solve_details,solution.solved_by))"
   ]
  },
  {
   "cell_type": "code",
   "execution_count": 1032,
   "metadata": {},
   "outputs": [
    {
     "name": "stdout",
     "output_type": "stream",
     "text": [
      "All cases matched. Hurray!\n"
     ]
    }
   ],
   "source": [
    "solution_y = solution.get_value_dict(Y)\n",
    "nonzero_allocation = []\n",
    "for keys in solution_y:\n",
    "    if solution_y[keys] == 1:\n",
    "        nonzero_allocation.append(keys)\n",
    "    else:\n",
    "        pass\n",
    "solution_x = solution.get_value_dict(X)\n",
    "count = []\n",
    "for keys in solution_x:\n",
    "    if solution_x[keys] != 0:\n",
    "        count.append(keys)\n",
    "    else:\n",
    "        pass\n",
    "if nonzero_allocation == count: print(\"All cases matched. Hurray!\")"
   ]
  },
  {
   "cell_type": "code",
   "execution_count": 1033,
   "metadata": {},
   "outputs": [],
   "source": [
    "# solution.export('Output')"
   ]
  }
 ],
 "metadata": {
  "kernelspec": {
   "display_name": "Python 3",
   "language": "python",
   "name": "python3"
  },
  "language_info": {
   "codemirror_mode": {
    "name": "ipython",
    "version": 3
   },
   "file_extension": ".py",
   "mimetype": "text/x-python",
   "name": "python",
   "nbconvert_exporter": "python",
   "pygments_lexer": "ipython3",
   "version": "3.7.5"
  }
 },
 "nbformat": 4,
 "nbformat_minor": 2
}
