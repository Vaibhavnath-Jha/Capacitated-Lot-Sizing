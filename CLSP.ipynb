{
 "cells": [
  {
   "cell_type": "markdown",
   "metadata": {},
   "source": [
    " ## Solving Capacitated Lot Sizing Problem using CPLEX's python module DOCPLEX"
   ]
  },
  {
   "cell_type": "code",
   "execution_count": 25,
   "metadata": {},
   "outputs": [],
   "source": [
    "import random as r\n",
    "import numpy as np\n",
    "import time\n",
    "\n",
    "r.seed(50)\n",
    "\n",
    "no_of_items = 12\n",
    "no_of_machines = 2\n",
    "no_of_period = 3\n",
    "\n",
    "# setting up the cost\n",
    "low_setup_time = np.asarray([int(r.uniform(a=10,b=50)) for i in range(no_of_items*no_of_machines)])\n",
    "high_setup_time = 1.5*low_setup_time\n",
    "\n",
    "low_setup_cost = np.asarray([int(r.uniform(a=5,b=95)) for i in range(no_of_items*no_of_machines)])\n",
    "high_setup_cost = 10*low_setup_cost\n",
    "\n",
    "unit_production_cost = [round(r.uniform(a=1.5,b=2.5), 2) for i in range(no_of_items*no_of_machines)]\n",
    "unit_inventory_cost = [round(r.uniform(a=0.2,b=0.4),2) for i in range(no_of_items*no_of_period)]\n",
    "unit_production_time = [int(r.uniform(a=1,b=5)) for i in range(no_of_items*no_of_machines)]\n",
    "\n",
    "demand = [round(r.uniform(a=1,b=180)) for i in range(no_of_items*no_of_period)]"
   ]
  },
  {
   "cell_type": "code",
   "execution_count": 26,
   "metadata": {},
   "outputs": [],
   "source": [
    "# Assigning Costs:\n",
    "\n",
    "Item_list = [i for i in range(1,no_of_items+1)]\n",
    "Machine_list = [j for j in range(1,no_of_machines+1)]\n",
    "Period_list = [t for t in range(1,no_of_period+1)]\n",
    "\n",
    "item_machine_pair = [(i,j) for i in Item_list for j in Machine_list]\n",
    "item_period_pair = [(i,t) for i in Item_list for t in Period_list]\n",
    "machine_period_pair = [(j,t) for j in Machine_list for t in Period_list]\n",
    "\n",
    "Bij = {(i,j): s for (i,j),s in zip(item_machine_pair,unit_production_time)}   # Unit production time of item i on machine j;\n",
    "Cij = {(i,j): s for (i,j),s in zip(item_machine_pair,unit_production_cost)}   # Unit production cost of item i on machine j;\n",
    "Hi = {i: s for i,s in zip(Item_list,unit_inventory_cost)}                     # Unit inventory cost of item i per period;\n",
    "Dit = {(i,t): s for (i,t),s in zip(item_period_pair,demand)}                  # Demand of item i at period t;\n",
    "Fij = {(i,j): s for (i,j),s in zip(item_machine_pair,low_setup_time)}         # Setup time of item i on machine j;\n",
    "Sij = {(i,j): s for (i,j),s in zip(item_machine_pair,low_setup_cost)}         # Setup cost of item i on machine j."
   ]
  },
  {
   "cell_type": "code",
   "execution_count": 27,
   "metadata": {},
   "outputs": [],
   "source": [
    "# Instanciating the variables:\n",
    "\n",
    "Vars = [(items,machines,periods) for items in Item_list for machines in Machine_list for periods in Period_list]"
   ]
  },
  {
   "cell_type": "code",
   "execution_count": 28,
   "metadata": {},
   "outputs": [],
   "source": [
    "from docplex.mp.model import Model"
   ]
  },
  {
   "cell_type": "code",
   "execution_count": 29,
   "metadata": {},
   "outputs": [],
   "source": [
    "# Initializing the Model:\n",
    "\n",
    "mip = Model('Capacitated Lot Sizing Problem')"
   ]
  },
  {
   "cell_type": "code",
   "execution_count": 30,
   "metadata": {},
   "outputs": [],
   "source": [
    "# Declaring decision variables:\n",
    "\n",
    "X = mip.integer_var_dict(Vars, lb=0, name='x')\n",
    "Y = mip.binary_var_dict(Vars,name='y')\n",
    "S = mip.integer_var_dict(item_period_pair, lb=0, name='s')"
   ]
  },
  {
   "cell_type": "code",
   "execution_count": 31,
   "metadata": {},
   "outputs": [],
   "source": [
    "# Averaging out demand of each item per period in order to calculate capacity of each machine per period:\n",
    "\n",
    "Cap = mip.sum(((Dit[i,t]/no_of_machines)*Bij[i,j]) + Fij[i,j] for i,j,t in X)                       \n",
    "capacity_per_period = [int((Cap/(no_of_machines*no_of_period)).constant)]\n",
    "capacity_per_period\n",
    "Qj = {j: s for j,s in zip(Machine_list,capacity_per_period*no_of_period)}           # Capacity of machine j per period;\n",
    "M = max(capacity_per_period)                                                        # Maximum capacity of machines per period."
   ]
  },
  {
   "cell_type": "code",
   "execution_count": 32,
   "metadata": {},
   "outputs": [],
   "source": [
    "cost_list = [Bij,Cij,Hi,Dit,Fij,Sij,Qj,M]"
   ]
  },
  {
   "cell_type": "code",
   "execution_count": 33,
   "metadata": {},
   "outputs": [],
   "source": [
    "# Constraints:\n",
    "\n",
    "# constraint_1 ensure that the demand of each item in each period should be satisfied \n",
    "constraint_1 = mip.add_constraints(mip.sum(X[i,j,t] for j in range(1,no_of_machines+1)) + (-S[i,t] + S[i,t-1] if t-1 > 0 else -S[i,t]) == Dit[i,t] for i,t in S)\n",
    "\n",
    "# constraint_2 restrict the production capacity for each machine j at each period t\n",
    "constraint_2 = mip.add_constraints(mip.sum(Bij[i,j]*X[i,j,t] + Fij[i,j]*Y[i,j,t] for i in range(1,no_of_items+1)) <= Qj[j] for j,t in zip(Machine_list,Period_list))\n",
    "\n",
    "# constraint_3 impose the setup cost on machine j at period t for item i when Xijt is positive.\n",
    "constraint_3 = mip.add_constraints(X[i,j,t] <= M*Y[i,j,t] for i,j,t in X)"
   ]
  },
  {
   "cell_type": "code",
   "execution_count": 34,
   "metadata": {},
   "outputs": [],
   "source": [
    "# Objective function:\n",
    "\n",
    "setup_cost = mip.sum(Sij[i,j]*Y[i,j,t] for i,j,t in Y) \n",
    "production_cost = mip.sum(Cij[i,j]*X[i,j,t] for i,j,t in X)\n",
    "inventory_cost = mip.sum(Hi[i]*S[i,t] for i,t in S)\n",
    "total_cost = setup_cost + production_cost + inventory_cost"
   ]
  },
  {
   "cell_type": "code",
   "execution_count": 35,
   "metadata": {},
   "outputs": [],
   "source": [
    "# Goal:\n",
    "\n",
    "mip.minimize(total_cost)"
   ]
  },
  {
   "cell_type": "code",
   "execution_count": 36,
   "metadata": {},
   "outputs": [
    {
     "name": "stdout",
     "output_type": "stream",
     "text": [
      "CPXPARAM_Read_DataCheck                          1\n",
      "Found incumbent of value 8015.330000 after 0.00 sec. (0.02 ticks)\n",
      "Tried aggregator 1 time.\n",
      "MIP Presolve eliminated 12 rows and 0 columns.\n",
      "MIP Presolve added 24 rows and 0 columns.\n",
      "MIP Presolve modified 65 coefficients.\n",
      "Reduced MIP has 122 rows, 180 columns, and 348 nonzeros.\n",
      "Reduced MIP has 72 binaries, 108 generals, 0 SOSs, and 0 indicators.\n",
      "Presolve time = 0.00 sec. (0.40 ticks)\n",
      "Probing fixed 0 vars, tightened 24 bounds.\n",
      "Probing time = 0.00 sec. (0.16 ticks)\n",
      "Tried aggregator 1 time.\n",
      "MIP Presolve modified 36 coefficients.\n",
      "Reduced MIP has 122 rows, 180 columns, and 348 nonzeros.\n",
      "Reduced MIP has 72 binaries, 108 generals, 0 SOSs, and 0 indicators.\n",
      "Presolve time = 0.02 sec. (0.30 ticks)\n",
      "Probing time = 0.00 sec. (0.13 ticks)\n",
      "Clique table members: 12.\n",
      "MIP emphasis: balance optimality and feasibility.\n",
      "MIP search method: dynamic search.\n",
      "Parallel mode: deterministic, using up to 8 threads.\n",
      "Root relaxation solution time = 0.00 sec. (0.22 ticks)\n",
      "\n",
      "        Nodes                                         Cuts/\n",
      "   Node  Left     Objective  IInf  Best Integer    Best Bound    ItCnt     Gap\n",
      "\n",
      "*     0+    0                         8015.3300        0.0000           100.00%\n",
      "      0     0     6129.7142    33     8015.3300     6129.7142       48   23.53%\n",
      "*     0+    0                         7879.1500     6129.7142            22.20%\n",
      "      0     0     7123.5800    39     7879.1500     Cuts: 111      107    9.59%\n",
      "      0     0     7226.2558    24     7879.1500      Cuts: 25      122    8.29%\n",
      "      0     0     7257.4584     4     7879.1500      Cuts: 16      127    7.89%\n",
      "*     0+    0                         7464.3400     7257.4584             2.77%\n",
      "      0     0     7257.4901     4     7464.3400   Impl Bds: 1      128    2.77%\n",
      "      0     0     7257.9248     4     7464.3400  Flowpaths: 1      129    2.77%\n",
      "      0     0     7258.0030     8     7464.3400    MIRcuts: 1      130    2.76%\n",
      "*     0+    0                         7296.6600     7258.0030             0.53%\n",
      "*     0+    0                         7272.7700     7258.0030             0.20%\n",
      "*     0+    0                         7269.1000     7258.0030             0.15%\n",
      "      0     2     7258.0030     8     7269.1000     7258.0030      130    0.15%\n",
      "Elapsed time = 0.09 sec. (10.53 ticks, tree = 0.02 MB, solutions = 6)\n",
      "\n",
      "Cover cuts applied:  12\n",
      "Implied bound cuts applied:  15\n",
      "Flow cuts applied:  34\n",
      "Mixed integer rounding cuts applied:  18\n",
      "Flow path cuts applied:  15\n",
      "Lift and project cuts applied:  1\n",
      "Gomory fractional cuts applied:  32\n",
      "\n",
      "Root node processing (before b&c):\n",
      "  Real time             =    0.11 sec. (10.41 ticks)\n",
      "Parallel b&c, 8 threads:\n",
      "  Real time             =    0.02 sec. (0.41 ticks)\n",
      "  Sync time (average)   =    0.02 sec.\n",
      "  Wait time (average)   =    0.00 sec.\n",
      "                          ------------\n",
      "Total (root+branch&cut) =    0.13 sec. (10.82 ticks)\n"
     ]
    }
   ],
   "source": [
    "solution = mip.solve(log_output=True)\n",
    "assert solution is not None\n",
    "value = round(solution.objective_value,2)"
   ]
  },
  {
   "cell_type": "code",
   "execution_count": 37,
   "metadata": {},
   "outputs": [],
   "source": [
    "# solution.export_as_mst(basename=\"%s\",write_level= 4, path=\"D:/Study Docs/Sem 2/Seminar/CLSP\")"
   ]
  },
  {
   "cell_type": "code",
   "execution_count": 38,
   "metadata": {},
   "outputs": [
    {
     "name": "stdout",
     "output_type": "stream",
     "text": [
      "The objective function value is: 7269.1\n"
     ]
    }
   ],
   "source": [
    "print(\"The objective function value is: {}\".format(value))"
   ]
  },
  {
   "cell_type": "code",
   "execution_count": 39,
   "metadata": {},
   "outputs": [
    {
     "name": "stdout",
     "output_type": "stream",
     "text": [
      "Obtained solution details:\n",
      "status  = integer optimal solution\n",
      "time    = 0.125 s.\n",
      "problem = MILP\n",
      "gap     = 0%\n",
      "and it was solved by: cplex_local solver\n"
     ]
    }
   ],
   "source": [
    "print(\"Obtained solution details:\\n{}and it was solved by: {} solver\".format(solution.solve_details,solution.solved_by))"
   ]
  },
  {
   "cell_type": "markdown",
   "metadata": {},
   "source": [
    "#### *Checking if items produced are actually produced on respective machine*"
   ]
  },
  {
   "cell_type": "code",
   "execution_count": 40,
   "metadata": {},
   "outputs": [
    {
     "data": {
      "text/plain": [
       "'All cases matched.'"
      ]
     },
     "execution_count": 40,
     "metadata": {},
     "output_type": "execute_result"
    }
   ],
   "source": [
    "from ipynb.fs.full.Solution_Checker import checker\n",
    "checker(solution,X,Y)"
   ]
  },
  {
   "cell_type": "markdown",
   "metadata": {},
   "source": [
    "#### *Solving with Lagrangian Relaxation*"
   ]
  },
  {
   "cell_type": "code",
   "execution_count": 41,
   "metadata": {},
   "outputs": [
    {
     "name": "stdout",
     "output_type": "stream",
     "text": [
      "1> new lagrangian iteration:\n",
      "\t obj=7305.02, m=[1, 1, 1, 1, 1, 1], p=[0, 0, 0, 0, 0, 0]\n",
      "* Lagrangian relaxation succeeds, best_solution=7305.02, penalty=0, #iterations=1\n",
      "\n",
      "Lower bound of the problem = 7305.020000000001\n"
     ]
    }
   ],
   "source": [
    "from ipynb.fs.full.Lagrangian_relaxed_model import Lagrangian_relaxation\n",
    "output = Lagrangian_relaxation(cost_list,Vars,no_of_items,no_of_machines,no_of_period)\n",
    "\n",
    "print(\"\\nLower bound of the problem = {}\".format(output.objective_value))"
   ]
  },
  {
   "cell_type": "code",
   "execution_count": 42,
   "metadata": {},
   "outputs": [],
   "source": [
    "# output.export_as_mst(basename=\"%s\",write_level= 4, path=\"D:/Study Docs/Sem 2/Seminar/CLSP\")"
   ]
  },
  {
   "cell_type": "code",
   "execution_count": 43,
   "metadata": {},
   "outputs": [],
   "source": [
    "time.sleep(2)"
   ]
  },
  {
   "cell_type": "markdown",
   "metadata": {},
   "source": [
    "#### *Solving the classical problem with lower bound solution obtained from Lagrangian relaxed model*"
   ]
  },
  {
   "cell_type": "code",
   "execution_count": 44,
   "metadata": {},
   "outputs": [
    {
     "data": {
      "text/plain": [
       "[(docplex.mp.solution.SolveSolution(obj=7305.02,values={x_1_2_1:61,x_1_2_3..,\n",
       "  <EffortLevel.Auto: 0>)]"
      ]
     },
     "execution_count": 44,
     "metadata": {},
     "output_type": "execute_result"
    }
   ],
   "source": [
    "relaxed_solution = mip.read_mip_starts(\"second_clsp_-with-_lagrangian_relaxation.mst\")\n",
    "relaxed_solution"
   ]
  },
  {
   "cell_type": "code",
   "execution_count": 45,
   "metadata": {},
   "outputs": [
    {
     "name": "stdout",
     "output_type": "stream",
     "text": [
      "CPXPARAM_Read_DataCheck                          1\n",
      "\n",
      "Root node processing (before b&c):\n",
      "  Real time             =    0.00 sec. (0.01 ticks)\n",
      "Parallel b&c, 8 threads:\n",
      "  Real time             =    0.00 sec. (0.00 ticks)\n",
      "  Sync time (average)   =    0.02 sec.\n",
      "  Wait time (average)   =    0.00 sec.\n",
      "                          ------------\n",
      "Total (root+branch&cut) =    0.00 sec. (0.01 ticks)\n",
      "\n",
      "Optimal! and Obejctive value is: 7269.1\n"
     ]
    }
   ],
   "source": [
    "new_solution = mip.solve(log_output=True)\n",
    "new_obj_val = round(new_solution.objective_value,2)\n",
    "if new_obj_val == value: print(\"\\nOptimal! and Obejctive value is: {}\".format(new_obj_val))"
   ]
  },
  {
   "cell_type": "code",
   "execution_count": 46,
   "metadata": {},
   "outputs": [
    {
     "name": "stdout",
     "output_type": "stream",
     "text": [
      "status  = integer optimal solution\n",
      "time    = 0 s.\n",
      "problem = MILP\n",
      "gap     = 0%\n",
      "\n"
     ]
    }
   ],
   "source": [
    "print(new_solution.solve_details)"
   ]
  },
  {
   "cell_type": "markdown",
   "metadata": {},
   "source": [
    "### Summary: Solution Obtained is optimal since Lower Bound equals the obtained solution."
   ]
  }
 ],
 "metadata": {
  "kernelspec": {
   "display_name": "Python 3",
   "language": "python",
   "name": "python3"
  },
  "language_info": {
   "codemirror_mode": {
    "name": "ipython",
    "version": 3
   },
   "file_extension": ".py",
   "mimetype": "text/x-python",
   "name": "python",
   "nbconvert_exporter": "python",
   "pygments_lexer": "ipython3",
   "version": "3.7.5"
  }
 },
 "nbformat": 4,
 "nbformat_minor": 2
}
