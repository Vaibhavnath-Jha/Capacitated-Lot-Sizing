{
 "cells": [
  {
   "cell_type": "markdown",
   "metadata": {},
   "source": [
    " ### Solving Capacitated Lot Sizing Problem using CPLEX's python module DOCPLEX"
   ]
  },
  {
   "cell_type": "code",
   "execution_count": 119,
   "metadata": {},
   "outputs": [],
   "source": [
    "import random as r\n",
    "import numpy as np\n",
    "\n",
    "r.seed(50)\n",
    "\n",
    "no_of_items = 10\n",
    "no_of_machines = 2\n",
    "no_of_period = 5\n",
    "\n",
    "# setting up the cost\n",
    "low_setup_time = np.asarray([r.randint(a=10,b=50) for i in range(no_of_items*no_of_machines)])\n",
    "high_setup_time = 1.5*low_setup_time\n",
    "\n",
    "low_setup_cost = np.asarray([r.randint(a=5,b=95) for i in range(no_of_items*no_of_machines)])\n",
    "high_setup_cost = 10*low_setup_cost\n",
    "\n",
    "unit_production_cost = [round(r.uniform(a=1.5,b=2.5), 2) for i in range(no_of_items*no_of_machines)]\n",
    "unit_inventory_cost = [round(r.uniform(a=0.2,b=0.4),2) for i in range(no_of_items*no_of_period)]\n",
    "unit_production_time = [r.randint(a=1,b=5) for i in range(no_of_items*no_of_machines)]\n",
    "\n",
    "demand = [round(r.uniform(a=0,b=180)) for i in range(no_of_items*no_of_period)]"
   ]
  },
  {
   "cell_type": "code",
   "execution_count": 120,
   "metadata": {},
   "outputs": [],
   "source": [
    "# function to calculate average demand of each item per period\n",
    "demand_per_period = []\n",
    "def capacity(demand): \n",
    "    demand_per_period.clear()\n",
    "    total_demand_per_period = 0\n",
    "    for t in range(1,no_of_period+1):\n",
    "        for i in range(1,no_of_items+1):\n",
    "            total_demand_per_period += demand[i,t]\n",
    "            average_per_period = total_demand_per_period/10\n",
    "        demand_per_period.append(average_per_period)\n",
    "    return demand_per_period"
   ]
  },
  {
   "cell_type": "code",
   "execution_count": 121,
   "metadata": {},
   "outputs": [],
   "source": [
    "# Assigning Costs\n",
    "Item_list = [i for i in range(1,no_of_items+1)]\n",
    "Machine_list = [j for j in range(1,no_of_machines+1)]\n",
    "Period_list = [t for t in range(1,no_of_period+1)]\n",
    "\n",
    "item_machine_pair = [(i,j) for i in Item_list for j in Machine_list]\n",
    "item_period_pair = [(i,t) for i in Item_list for t in Period_list]\n",
    "machine_period_pair = [(j,t) for j in Machine_list for t in Period_list]\n",
    "\n",
    "Bij = {(i,j): s for (i,j),s in zip(item_machine_pair,unit_production_time)}   # Unit production time of item i on machine j;\n",
    "Cij = {(i,j): s for (i,j),s in zip(item_machine_pair,unit_production_cost)}   # Unit production cost of item i on machine j;\n",
    "Hit = {(i,t): s for (i,t),s in zip(item_period_pair,unit_inventory_cost)}     # Unit inventory cost of item i per period t;\n",
    "Dit = {(i,t): s for (i,t),s in zip(item_period_pair,demand)}                  # Demand of item i at period t;\n",
    "Fij = {(i,j): s for (i,j),s in zip(item_machine_pair,low_setup_time)}         # Setup time of item i on machine j;\n",
    "Sij = {(i,j): s for (i,j),s in zip(item_machine_pair,low_setup_cost)}         # Setup cost of item i on machine j;\n",
    "capacity(Dit)\n",
    "Qjt = {(j,t): s for (j,t),s in zip(machine_period_pair,demand_per_period*2)}  # Capacity of machine j at period t;\n",
    "Mt = {t: s for t,s in zip(Period_list,demand_per_period)}                     # Maximum capacity of machines per period."
   ]
  },
  {
   "cell_type": "code",
   "execution_count": 122,
   "metadata": {},
   "outputs": [],
   "source": [
    "# print(\"Bij: {}\\n\\nCij: {}\\n\\nHi: {}\\n\\nDit: {}\\n\\nFij: {}\\n\\nSij: {}\\n\\nQjt: {}\".format(Bij,Cij,Hi,Dit,Fij,Sij,Qjt))\n",
    "# print(Mt)"
   ]
  },
  {
   "cell_type": "code",
   "execution_count": 123,
   "metadata": {},
   "outputs": [],
   "source": [
    "# Defining variables\n",
    "Vars = []\n",
    "for items in Item_list:\n",
    "    for machines in Machine_list:\n",
    "        for periods in Period_list:\n",
    "            Vars.append((items,machines,periods))\n",
    "            \n",
    "Inventory_vars = []\n",
    "for items in Item_list:\n",
    "    for periods in Period_list:\n",
    "        Inventory_vars.append((items,periods))"
   ]
  },
  {
   "cell_type": "code",
   "execution_count": 124,
   "metadata": {},
   "outputs": [],
   "source": [
    "from docplex.mp.model import Model"
   ]
  },
  {
   "cell_type": "code",
   "execution_count": 125,
   "metadata": {},
   "outputs": [],
   "source": [
    "# Initializing the Model\n",
    "mip = Model('CLSP')"
   ]
  },
  {
   "cell_type": "code",
   "execution_count": 126,
   "metadata": {},
   "outputs": [],
   "source": [
    "# Decision variables\n",
    "X = mip.integer_var_dict(Vars, lb=0, name='x')\n",
    "Y = mip.binary_var_dict(Vars,name='y')\n",
    "S = mip.integer_var_dict(Inventory_vars, lb=0, name='s')"
   ]
  },
  {
   "cell_type": "code",
   "execution_count": 127,
   "metadata": {},
   "outputs": [],
   "source": [
    "# Constraints\n",
    "constraint_1 = mip.add_constraints(mip.sum(X[i,j,t] for j in range(1,no_of_machines+1)) + (-S[i,t] + S[i,t-1] if t-1 > 0 else -S[i,t]) == Dit[i,t] for i,t in S)\n",
    "constraint_2 = mip.add_constraints(mip.sum(Bij[i,j]*X[i,j,t] + Fij[i,j]*Y[i,j,t] for i in range(1,no_of_items+1)) <= Qjt[j,t] for j,t in Qjt)\n",
    "constraint_3 = mip.add_indicator_constraints(mip.indicator_constraint(Y[i,j,t], X[i,j,t] <= Mt[t]) for i,j,t in X)"
   ]
  },
  {
   "cell_type": "code",
   "execution_count": 128,
   "metadata": {},
   "outputs": [],
   "source": [
    "# Objective function\n",
    "setup_cost = mip.sum(Sij[i,j]*Y[i,j,t] for i,j,t in Y) \n",
    "production_cost = mip.sum(Cij[i,j]*X[i,j,t] for i,j,t in X)\n",
    "inventory_cost = mip.sum(Hit[i,t]*S[i,t] for i,t in S)\n",
    "total_cost = setup_cost + production_cost + inventory_cost"
   ]
  },
  {
   "cell_type": "code",
   "execution_count": 129,
   "metadata": {},
   "outputs": [],
   "source": [
    "# Goal\n",
    "mip.minimize(total_cost)"
   ]
  },
  {
   "cell_type": "code",
   "execution_count": 130,
   "metadata": {},
   "outputs": [
    {
     "name": "stdout",
     "output_type": "stream",
     "text": [
      "Model: CLSP\n",
      " - number of variables: 250\n",
      "   - binary=100, integer=150, continuous=0\n",
      " - number of constraints: 160\n",
      "   - linear=60, indicator=100\n",
      " - parameters: defaults\n",
      " - objective: minimize\n",
      " - problem type is: MILP\n"
     ]
    }
   ],
   "source": [
    "mip.print_information()"
   ]
  },
  {
   "cell_type": "code",
   "execution_count": null,
   "metadata": {},
   "outputs": [],
   "source": [
    "solution = mip.solve(log_output=True)\n",
    "assert solution is not None\n",
    "value = solution.objective_value"
   ]
  },
  {
   "cell_type": "code",
   "execution_count": null,
   "metadata": {},
   "outputs": [],
   "source": [
    "# print(solution.print_mst())"
   ]
  },
  {
   "cell_type": "code",
   "execution_count": null,
   "metadata": {},
   "outputs": [],
   "source": [
    "# solution.solve_status"
   ]
  }
 ],
 "metadata": {
  "kernelspec": {
   "display_name": "Python 3",
   "language": "python",
   "name": "python3"
  },
  "language_info": {
   "codemirror_mode": {
    "name": "ipython",
    "version": 3
   },
   "file_extension": ".py",
   "mimetype": "text/x-python",
   "name": "python",
   "nbconvert_exporter": "python",
   "pygments_lexer": "ipython3",
   "version": "3.7.5"
  }
 },
 "nbformat": 4,
 "nbformat_minor": 2
}
