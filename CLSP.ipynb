{
 "cells": [
  {
   "cell_type": "markdown",
   "metadata": {},
   "source": [
    " ### Solving Capacitated Lot Sizing Problem using CPLEX's python module DOCPLEX"
   ]
  },
  {
   "cell_type": "code",
   "execution_count": 1,
   "metadata": {},
   "outputs": [],
   "source": [
    "import random as r\n",
    "import numpy as np\n",
    "\n",
    "r.seed(50)\n",
    "\n",
    "no_of_items = 20\n",
    "no_of_machines = 3\n",
    "no_of_period = 6\n",
    "\n",
    "# setting up the cost\n",
    "low_setup_time = np.asarray([r.randint(a=10,b=50) for i in range(no_of_items*no_of_machines)])\n",
    "high_setup_time = 1.5*low_setup_time\n",
    "\n",
    "low_setup_cost = np.asarray([r.randint(a=5,b=95) for i in range(no_of_items*no_of_machines)])\n",
    "high_setup_cost = 10*low_setup_cost\n",
    "\n",
    "unit_production_cost = [round(r.uniform(a=1.5,b=2.5), 2) for i in range(no_of_items*no_of_machines)]\n",
    "unit_inventory_cost = [round(r.uniform(a=0.2,b=0.4),2) for i in range(no_of_items*no_of_period)]\n",
    "unit_production_time = [r.randint(a=1,b=5) for i in range(no_of_items*no_of_machines)]\n",
    "\n",
    "demand = [round(r.uniform(a=0,b=180)) for i in range(no_of_items*no_of_period)]"
   ]
  },
  {
   "cell_type": "code",
   "execution_count": 2,
   "metadata": {},
   "outputs": [],
   "source": [
    "# function to calculate average demand of each item per period\n",
    "demand_per_period = []\n",
    "def capacity(demand): \n",
    "    demand_per_period.clear()\n",
    "    total_demand_per_period = 0\n",
    "    for t in range(1,no_of_period+1):\n",
    "        for i in range(1,no_of_items+1):\n",
    "            total_demand_per_period += demand[i,t]\n",
    "            average_per_period = total_demand_per_period/10\n",
    "        demand_per_period.append(average_per_period)\n",
    "    return demand_per_period"
   ]
  },
  {
   "cell_type": "code",
   "execution_count": 3,
   "metadata": {},
   "outputs": [],
   "source": [
    "# Assigning Costs\n",
    "Item_list = [i for i in range(1,no_of_items+1)]\n",
    "Machine_list = [j for j in range(1,no_of_machines+1)]\n",
    "Period_list = [t for t in range(1,no_of_period+1)]\n",
    "\n",
    "item_machine_pair = [(i,j) for i in Item_list for j in Machine_list]\n",
    "item_period_pair = [(i,t) for i in Item_list for t in Period_list]\n",
    "machine_period_pair = [(j,t) for j in Machine_list for t in Period_list]\n",
    "\n",
    "Bij = {(i,j): s for (i,j),s in zip(item_machine_pair,unit_production_time)}   # Unit production time of item i on machine j;\n",
    "Cij = {(i,j): s for (i,j),s in zip(item_machine_pair,unit_production_cost)}   # Unit production cost of item i on machine j;\n",
    "Hit = {(i,t): s for (i,t),s in zip(item_period_pair,unit_inventory_cost)}     # Unit inventory cost of item i per period t;\n",
    "Dit = {(i,t): s for (i,t),s in zip(item_period_pair,demand)}                  # Demand of item i at period t;\n",
    "Fij = {(i,j): s for (i,j),s in zip(item_machine_pair,low_setup_time)}         # Setup time of item i on machine j;\n",
    "Sij = {(i,j): s for (i,j),s in zip(item_machine_pair,low_setup_cost)}         # Setup cost of item i on machine j;\n",
    "capacity(Dit)\n",
    "Qjt = {(j,t): s for (j,t),s in zip(machine_period_pair,demand_per_period*2)}  # Capacity of machine j at period t;\n",
    "Mt = {t: s for t,s in zip(Period_list,demand_per_period)}                     # Maximum capacity of machines per period."
   ]
  },
  {
   "cell_type": "code",
   "execution_count": 4,
   "metadata": {},
   "outputs": [],
   "source": [
    "# print(\"Bij: {}\\n\\nCij: {}\\n\\nHi: {}\\n\\nDit: {}\\n\\nFij: {}\\n\\nSij: {}\\n\\nQjt: {}\".format(Bij,Cij,Hi,Dit,Fij,Sij,Qjt))\n",
    "# print(Mt)"
   ]
  },
  {
   "cell_type": "code",
   "execution_count": 5,
   "metadata": {},
   "outputs": [],
   "source": [
    "# Defining variables\n",
    "Vars = []\n",
    "for items in Item_list:\n",
    "    for machines in Machine_list:\n",
    "        for periods in Period_list:\n",
    "            Vars.append((items,machines,periods))\n",
    "            \n",
    "Inventory_vars = []\n",
    "for items in Item_list:\n",
    "    for periods in Period_list:\n",
    "        Inventory_vars.append((items,periods))"
   ]
  },
  {
   "cell_type": "code",
   "execution_count": 6,
   "metadata": {},
   "outputs": [],
   "source": [
    "from docplex.mp.model import Model"
   ]
  },
  {
   "cell_type": "code",
   "execution_count": 7,
   "metadata": {},
   "outputs": [],
   "source": [
    "# Initializing the Model\n",
    "mip = Model('CLSP')"
   ]
  },
  {
   "cell_type": "code",
   "execution_count": 8,
   "metadata": {},
   "outputs": [],
   "source": [
    "# Decision variables\n",
    "X = mip.integer_var_dict(Vars, lb=0, name='x')\n",
    "Y = mip.binary_var_dict(Vars,name='y')\n",
    "S = mip.integer_var_dict(Inventory_vars, lb=0, name='s')"
   ]
  },
  {
   "cell_type": "code",
   "execution_count": 9,
   "metadata": {},
   "outputs": [],
   "source": [
    "# Constraints\n",
    "constraint_1 = mip.add_constraints(mip.sum(X[i,j,t] for j in range(1,no_of_machines+1)) + (-S[i,t] + S[i,t-1] if t-1 > 0 else -S[i,t]) == Dit[i,t] for i,t in S)\n",
    "constraint_2 = mip.add_constraints(mip.sum(Bij[i,j]*X[i,j,t] + Fij[i,j]*Y[i,j,t] for i in range(1,no_of_items+1)) <= Qjt[j,t] for j,t in Qjt)\n",
    "constraint_3 = mip.add_indicator_constraints(mip.indicator_constraint(Y[i,j,t], X[i,j,t] <= Mt[t]) for i,j,t in X)"
   ]
  },
  {
   "cell_type": "code",
   "execution_count": 10,
   "metadata": {},
   "outputs": [],
   "source": [
    "# Objective function\n",
    "setup_cost = mip.sum(Sij[i,j]*Y[i,j,t] for i,j,t in Y) \n",
    "production_cost = mip.sum(Cij[i,j]*X[i,j,t] for i,j,t in X)\n",
    "inventory_cost = mip.sum(Hit[i,t]*S[i,t] for i,t in S)\n",
    "total_cost = setup_cost + production_cost + inventory_cost"
   ]
  },
  {
   "cell_type": "code",
   "execution_count": 11,
   "metadata": {},
   "outputs": [],
   "source": [
    "# Goal\n",
    "mip.minimize(total_cost)"
   ]
  },
  {
   "cell_type": "code",
   "execution_count": 12,
   "metadata": {},
   "outputs": [
    {
     "name": "stdout",
     "output_type": "stream",
     "text": [
      "Model: CLSP\n",
      " - number of variables: 840\n",
      "   - binary=360, integer=480, continuous=0\n",
      " - number of constraints: 492\n",
      "   - linear=132, indicator=360\n",
      " - parameters: defaults\n",
      " - objective: minimize\n",
      " - problem type is: MILP\n"
     ]
    }
   ],
   "source": [
    "mip.print_information()"
   ]
  },
  {
   "cell_type": "code",
   "execution_count": 13,
   "metadata": {},
   "outputs": [
    {
     "name": "stdout",
     "output_type": "stream",
     "text": [
      "CPXPARAM_Read_DataCheck                          1\n",
      "Tried aggregator 2 times.\n",
      "MIP Presolve eliminated 0 rows and 366 columns.\n",
      "MIP Presolve modified 10 coefficients.\n",
      "Aggregator did 3 substitutions.\n",
      "Reduced MIP has 129 rows, 471 columns, and 802 nonzeros.\n",
      "Reduced MIP has 0 binaries, 471 generals, 0 SOSs, and 0 indicators.\n",
      "Presolve time = 0.13 sec. (0.83 ticks)\n",
      "Found incumbent of value 22642.180000 after 0.38 sec. (1.08 ticks)\n",
      "Tried aggregator 1 time.\n",
      "Reduced MIP has 129 rows, 471 columns, and 802 nonzeros.\n",
      "Reduced MIP has 0 binaries, 471 generals, 0 SOSs, and 0 indicators.\n",
      "Presolve time = 0.02 sec. (0.44 ticks)\n",
      "MIP emphasis: balance optimality and feasibility.\n",
      "MIP search method: dynamic search.\n",
      "Parallel mode: deterministic, using up to 8 threads.\n",
      "Root relaxation solution time = 0.05 sec. (0.65 ticks)\n",
      "\n",
      "        Nodes                                         Cuts/\n",
      "   Node  Left     Objective  IInf  Best Integer    Best Bound    ItCnt     Gap\n",
      "\n",
      "*     0+    0                        22642.1800      690.4900            96.95%\n",
      "*     0+    0                        22143.9900      690.4900            96.88%\n",
      "      0     0    20431.2529    10    22143.9900    20431.2529      147    7.73%\n",
      "*     0+    0                        20431.7700    20431.2529             0.00%\n",
      "\n",
      "Root node processing (before b&c):\n",
      "  Real time             =    0.52 sec. (3.10 ticks)\n",
      "Parallel b&c, 8 threads:\n",
      "  Real time             =    0.00 sec. (0.00 ticks)\n",
      "  Sync time (average)   =    0.00 sec.\n",
      "  Wait time (average)   =    0.00 sec.\n",
      "                          ------------\n",
      "Total (root+branch&cut) =    0.52 sec. (3.10 ticks)\n"
     ]
    }
   ],
   "source": [
    "solution = mip.solve(log_output=True)\n",
    "assert solution is not None\n",
    "value = solution.objective_value"
   ]
  },
  {
   "cell_type": "code",
   "execution_count": 16,
   "metadata": {},
   "outputs": [
    {
     "name": "stdout",
     "output_type": "stream",
     "text": [
      "20431.769999999997\n"
     ]
    }
   ],
   "source": [
    "print(value)"
   ]
  },
  {
   "cell_type": "code",
   "execution_count": 17,
   "metadata": {},
   "outputs": [
    {
     "data": {
      "text/plain": [
       "<JobSolveStatus.OPTIMAL_SOLUTION: 2>"
      ]
     },
     "execution_count": 17,
     "metadata": {},
     "output_type": "execute_result"
    }
   ],
   "source": [
    "solution.solve_status"
   ]
  }
 ],
 "metadata": {
  "kernelspec": {
   "display_name": "Python 3",
   "language": "python",
   "name": "python3"
  },
  "language_info": {
   "codemirror_mode": {
    "name": "ipython",
    "version": 3
   },
   "file_extension": ".py",
   "mimetype": "text/x-python",
   "name": "python",
   "nbconvert_exporter": "python",
   "pygments_lexer": "ipython3",
   "version": "3.7.5"
  }
 },
 "nbformat": 4,
 "nbformat_minor": 2
}
