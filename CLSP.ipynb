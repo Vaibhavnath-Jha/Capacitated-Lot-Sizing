{
 "cells": [
  {
   "cell_type": "markdown",
   "metadata": {},
   "source": [
    " ## Solving Capacitated Lot Sizing Problem using CPLEX's python module DOCPLEX"
   ]
  },
  {
   "cell_type": "code",
   "execution_count": 33,
   "metadata": {},
   "outputs": [],
   "source": [
    "import random as r\n",
    "import numpy as np\n",
    "\n",
    "r.seed(50)\n",
    "\n",
    "no_of_items = 10\n",
    "no_of_machines = 2\n",
    "no_of_period = 4\n",
    "\n",
    "# setting up the cost\n",
    "low_setup_time = np.asarray([int(r.uniform(a=10,b=50)) for i in range(no_of_items*no_of_machines)])\n",
    "high_setup_time = 1.5*low_setup_time\n",
    "\n",
    "low_setup_cost = np.asarray([int(r.uniform(a=5,b=95)) for i in range(no_of_items*no_of_machines)])\n",
    "high_setup_cost = 10*low_setup_cost\n",
    "\n",
    "unit_production_cost = [round(r.uniform(a=1.5,b=2.5), 2) for i in range(no_of_items*no_of_machines)]\n",
    "unit_inventory_cost = [round(r.uniform(a=0.2,b=0.4),2) for i in range(no_of_items*no_of_period)]\n",
    "unit_production_time = [int(r.uniform(a=1,b=5)) for i in range(no_of_items*no_of_machines)]\n",
    "\n",
    "demand = [round(r.uniform(a=1,b=180)) for i in range(no_of_items*no_of_period)]"
   ]
  },
  {
   "cell_type": "code",
   "execution_count": 34,
   "metadata": {},
   "outputs": [],
   "source": [
    "# Assigning Costs:\n",
    "\n",
    "Item_list = [i for i in range(1,no_of_items+1)]\n",
    "Machine_list = [j for j in range(1,no_of_machines+1)]\n",
    "Period_list = [t for t in range(1,no_of_period+1)]\n",
    "\n",
    "item_machine_pair = [(i,j) for i in Item_list for j in Machine_list]\n",
    "item_period_pair = [(i,t) for i in Item_list for t in Period_list]\n",
    "machine_period_pair = [(j,t) for j in Machine_list for t in Period_list]\n",
    "\n",
    "Bij = {(i,j): s for (i,j),s in zip(item_machine_pair,unit_production_time)}   # Unit production time of item i on machine j;\n",
    "Cij = {(i,j): s for (i,j),s in zip(item_machine_pair,unit_production_cost)}   # Unit production cost of item i on machine j;\n",
    "Hit = {(i,t): s for (i,t),s in zip(item_period_pair,unit_inventory_cost)}     # Unit inventory cost of item i per period t;\n",
    "Dit = {(i,t): s for (i,t),s in zip(item_period_pair,demand)}                  # Demand of item i at period t;\n",
    "Fij = {(i,j): s for (i,j),s in zip(item_machine_pair,low_setup_time)}         # Setup time of item i on machine j;\n",
    "Sij = {(i,j): s for (i,j),s in zip(item_machine_pair,low_setup_cost)}         # Setup cost of item i on machine j."
   ]
  },
  {
   "cell_type": "code",
   "execution_count": 35,
   "metadata": {},
   "outputs": [],
   "source": [
    "# Instanciating the variables:\n",
    "\n",
    "Vars = []\n",
    "for items in Item_list:\n",
    "    for machines in Machine_list:\n",
    "        for periods in Period_list:\n",
    "            Vars.append((items,machines,periods))"
   ]
  },
  {
   "cell_type": "code",
   "execution_count": 36,
   "metadata": {},
   "outputs": [],
   "source": [
    "from docplex.mp.model import Model"
   ]
  },
  {
   "cell_type": "code",
   "execution_count": 37,
   "metadata": {},
   "outputs": [],
   "source": [
    "# Initializing the Model:\n",
    "\n",
    "mip = Model('Capacitated Lot Sizing Problem')"
   ]
  },
  {
   "cell_type": "code",
   "execution_count": 38,
   "metadata": {},
   "outputs": [],
   "source": [
    "# Declaring decision variables:\n",
    "\n",
    "X = mip.integer_var_dict(Vars, lb=0, name='x')\n",
    "Y = mip.binary_var_dict(Vars,name='y')\n",
    "S = mip.integer_var_dict(item_period_pair, lb=0, name='s')"
   ]
  },
  {
   "cell_type": "code",
   "execution_count": 39,
   "metadata": {},
   "outputs": [],
   "source": [
    "# Averaging out demand of each item per period in order to calculate capacity of each machine per period:\n",
    "\n",
    "Cap = mip.sum(((Dit[i,t]/no_of_machines)*Bij[i,j]) + Fij[i,j] for i,j,t in X)                       \n",
    "capacity_per_period = []\n",
    "for i in range(1,no_of_period+1):\n",
    "    Q = int((Cap/(no_of_machines*i)).constant)      \n",
    "    capacity_per_period.append(Q)\n",
    "\n",
    "Qjt = {(j,t): s for (j,t),s in zip(machine_period_pair,capacity_per_period*no_of_period)}           # Capacity of machine j at period t;\n",
    "M = max(capacity_per_period)                                                                        # Maximum capacity of machines per period."
   ]
  },
  {
   "cell_type": "code",
   "execution_count": 40,
   "metadata": {},
   "outputs": [],
   "source": [
    "cost_list = [Bij,Cij,Hit,Dit,Fij,Sij,Qjt,M]"
   ]
  },
  {
   "cell_type": "code",
   "execution_count": 41,
   "metadata": {},
   "outputs": [],
   "source": [
    "# Constraints:\n",
    "\n",
    "# constraint_1 ensure that the demand of each item in each period should be satisfied \n",
    "constraint_1 = mip.add_constraints(mip.sum(X[i,j,t] for j in range(1,no_of_machines+1)) + (-S[i,t] + S[i,t-1] if t-1 > 0 else -S[i,t]) == Dit[i,t] for i,t in S)\n",
    "\n",
    "# constraint_2 restrict the production capacity for each machine j at each period t\n",
    "constraint_2 = mip.add_constraints(mip.sum(Bij[i,j]*X[i,j,t] + Fij[i,j]*Y[i,j,t] for i in range(1,no_of_items+1)) <= Qjt[j,t] for j,t in Qjt)\n",
    "\n",
    "# constraint_3 impose the setup cost on machine j at period t for item i when Xijt is positive.\n",
    "constraint_3 = mip.add_constraints(X[i,j,t] <= M*Y[i,j,t] for i,j,t in X)"
   ]
  },
  {
   "cell_type": "code",
   "execution_count": 42,
   "metadata": {},
   "outputs": [],
   "source": [
    "# Objective function:\n",
    "\n",
    "setup_cost = mip.sum(Sij[i,j]*Y[i,j,t] for i,j,t in Y) \n",
    "production_cost = mip.sum(Cij[i,j]*X[i,j,t] for i,j,t in X)\n",
    "inventory_cost = mip.sum(Hit[i,t]*S[i,t] for i,t in S)\n",
    "total_cost = setup_cost + production_cost + inventory_cost"
   ]
  },
  {
   "cell_type": "code",
   "execution_count": 43,
   "metadata": {},
   "outputs": [],
   "source": [
    "# Goal:\n",
    "\n",
    "mip.minimize(total_cost)"
   ]
  },
  {
   "cell_type": "code",
   "execution_count": 44,
   "metadata": {},
   "outputs": [
    {
     "name": "stdout",
     "output_type": "stream",
     "text": [
      "Model: Capacitated Lot Sizing Problem\n",
      " - number of variables: 200\n",
      "   - binary=80, integer=120, continuous=0\n",
      " - number of constraints: 128\n",
      "   - linear=128\n",
      " - parameters: defaults\n",
      " - objective: minimize\n",
      " - problem type is: MILP\n"
     ]
    }
   ],
   "source": [
    "mip.print_information()"
   ]
  },
  {
   "cell_type": "code",
   "execution_count": 45,
   "metadata": {},
   "outputs": [
    {
     "name": "stdout",
     "output_type": "stream",
     "text": [
      "CPXPARAM_Read_DataCheck                          1\n",
      "Found incumbent of value 8563.040000 after 0.00 sec. (0.02 ticks)\n",
      "Tried aggregator 1 time.\n",
      "MIP Presolve eliminated 10 rows and 0 columns.\n",
      "MIP Presolve added 20 rows and 0 columns.\n",
      "MIP Presolve modified 174 coefficients.\n",
      "Reduced MIP has 138 rows, 200 columns, and 490 nonzeros.\n",
      "Reduced MIP has 80 binaries, 120 generals, 0 SOSs, and 0 indicators.\n",
      "Presolve time = 0.00 sec. (0.53 ticks)\n",
      "Probing fixed 0 vars, tightened 76 bounds.\n",
      "Probing time = 0.00 sec. (0.24 ticks)\n",
      "Tried aggregator 2 times.\n",
      "MIP Presolve modified 30 coefficients.\n",
      "Aggregator did 1 substitutions.\n",
      "Reduced MIP has 137 rows, 199 columns, and 487 nonzeros.\n",
      "Reduced MIP has 80 binaries, 119 generals, 0 SOSs, and 0 indicators.\n",
      "Presolve time = 0.00 sec. (0.48 ticks)\n",
      "Probing fixed 0 vars, tightened 5 bounds.\n",
      "Probing time = 0.00 sec. (0.19 ticks)\n",
      "Clique table members: 10.\n",
      "MIP emphasis: balance optimality and feasibility.\n",
      "MIP search method: dynamic search.\n",
      "Parallel mode: deterministic, using up to 8 threads.\n",
      "Root relaxation solution time = 0.00 sec. (0.31 ticks)\n",
      "\n",
      "        Nodes                                         Cuts/\n",
      "   Node  Left     Objective  IInf  Best Integer    Best Bound    ItCnt     Gap\n",
      "\n",
      "*     0+    0                         8563.0400        0.0000           100.00%\n",
      "      0     0     6945.7661    42     8563.0400     6945.7661       61   18.89%\n",
      "      0     0     7975.6758    41     8563.0400     Cuts: 120      124    6.86%\n",
      "      0     0     8026.1480    46     8563.0400      Cuts: 32      145    6.27%\n",
      "      0     0     8068.1096    18     8563.0400      Cuts: 26      161    5.78%\n",
      "*     0+    0                         8335.8000     8068.1096             3.21%\n",
      "      0     0     8087.7963    22     8335.8000       Cuts: 6      171    2.98%\n",
      "*     0+    0                         8299.7300     8087.7963             2.55%\n",
      "      0     0     8098.5104    12     8299.7300       Cuts: 2      174    2.42%\n",
      "*     0+    0                         8227.1200     8098.5104             1.56%\n",
      "      0     0     8100.0446    10     8227.1200       Cuts: 3      176    1.54%\n",
      "      0     0     8106.1932    11     8227.1200       Cuts: 5      179    1.47%\n",
      "*     0+    0                         8218.4500     8106.1932             1.37%\n",
      "      0     0     8106.1936    11     8218.4500    MIRcuts: 2      180    1.37%\n",
      "      0     0     8106.1967    12     8218.4500  Flowpaths: 1      182    1.37%\n",
      "*     0+    0                         8106.7300     8106.1967             0.01%\n",
      "\n",
      "Cover cuts applied:  10\n",
      "Implied bound cuts applied:  14\n",
      "Flow cuts applied:  44\n",
      "Mixed integer rounding cuts applied:  14\n",
      "Flow path cuts applied:  14\n",
      "Zero-half cuts applied:  8\n",
      "Gomory fractional cuts applied:  29\n",
      "\n",
      "Root node processing (before b&c):\n",
      "  Real time             =    0.09 sec. (13.63 ticks)\n",
      "Parallel b&c, 8 threads:\n",
      "  Real time             =    0.00 sec. (0.00 ticks)\n",
      "  Sync time (average)   =    0.00 sec.\n",
      "  Wait time (average)   =    0.00 sec.\n",
      "                          ------------\n",
      "Total (root+branch&cut) =    0.09 sec. (13.63 ticks)\n"
     ]
    }
   ],
   "source": [
    "solution = mip.solve(log_output=True)\n",
    "assert solution is not None\n",
    "value = solution.objective_value"
   ]
  },
  {
   "cell_type": "code",
   "execution_count": 46,
   "metadata": {},
   "outputs": [
    {
     "name": "stdout",
     "output_type": "stream",
     "text": [
      "The objective function value is: 8106.73\n"
     ]
    }
   ],
   "source": [
    "print(\"The objective function value is: {}\".format(round(value,2)))"
   ]
  },
  {
   "cell_type": "code",
   "execution_count": 47,
   "metadata": {},
   "outputs": [
    {
     "name": "stdout",
     "output_type": "stream",
     "text": [
      "Obtained solution details:\n",
      "status  = integer optimal, tolerance\n",
      "time    = 0.125 s.\n",
      "problem = MILP\n",
      "gap     = 0.0065785%\n",
      "and it was solved by: cplex_local solver\n"
     ]
    }
   ],
   "source": [
    "print(\"Obtained solution details:\\n{}and it was solved by: {} solver\".format(solution.solve_details,solution.solved_by))"
   ]
  },
  {
   "cell_type": "code",
   "execution_count": 48,
   "metadata": {},
   "outputs": [
    {
     "name": "stdout",
     "output_type": "stream",
     "text": [
      "All cases matched.\n"
     ]
    }
   ],
   "source": [
    "solution_y = solution.get_value_dict(Y)\n",
    "nonzero_allocation = []\n",
    "for keys in solution_y:\n",
    "    if solution_y[keys] == 1:\n",
    "        nonzero_allocation.append(keys)\n",
    "    else:\n",
    "        pass\n",
    "solution_x = solution.get_value_dict(X)\n",
    "nonzero_amount = []\n",
    "for keys in solution_x:\n",
    "    if solution_x[keys] != 0:\n",
    "        nonzero_amount.append(keys)\n",
    "    else:\n",
    "        pass\n",
    "if nonzero_allocation == nonzero_amount: print(\"All cases matched.\")"
   ]
  },
  {
   "cell_type": "markdown",
   "metadata": {},
   "source": [
    "#### *Solving with Lagrangian Relaxation*"
   ]
  },
  {
   "cell_type": "code",
   "execution_count": 50,
   "metadata": {},
   "outputs": [
    {
     "name": "stdout",
     "output_type": "stream",
     "text": [
      "1> new lagrangian iteration:\n",
      "\t obj=17529, m=[1, 1, 1, 1, 1, 1, 1, 1], p=[0, 0, 0, 0, 0, 0, 0, 3.0]\n",
      "1> -- loop continues, m=[1.0, 1.0, 1.0, 1.0, 1.0, 1.0, 1.0, 0.0], justifier=3\n",
      "2> new lagrangian iteration:\n",
      "\t obj=17529, m=[1.0, 1.0, 1.0, 1.0, 1.0, 1.0, 1.0, 0.0], p=[0, 0, 0, 0, 0, 0, 0, 3.0]\n",
      "* Lagrangian relaxation succeeds, best_solution=17529, penalty=3, #iterations=2\n",
      "\n",
      "Lower bound of the problem = 17529.01\n"
     ]
    }
   ],
   "source": [
    "from ipynb.fs.full.Lagrangian_relaxed_model import Lagrangian_relaxation\n",
    "output = Lagrangian_relaxation(cost_list,Vars,no_of_items,no_of_machines,no_of_period)\n",
    "\n",
    "print(\"\\nLower bound of the problem = {}\".format(output.objective_value))"
   ]
  },
  {
   "cell_type": "code",
   "execution_count": 51,
   "metadata": {},
   "outputs": [
    {
     "data": {
      "text/plain": [
       "'D:/Study Docs/Sem 2/Seminar/CLSP\\\\clsp_-with-_lagrangian_relaxation.mst'"
      ]
     },
     "execution_count": 51,
     "metadata": {},
     "output_type": "execute_result"
    }
   ],
   "source": [
    "output.export_as_mst(basename=\"%s\",write_level= 4, path=\"D:/Study Docs/Sem 2/Seminar/CLSP\")"
   ]
  },
  {
   "cell_type": "code",
   "execution_count": 52,
   "metadata": {},
   "outputs": [],
   "source": [
    "solution.clear()"
   ]
  },
  {
   "cell_type": "markdown",
   "metadata": {},
   "source": [
    "#### *Solving the classical with lower bound solution obtained from Lagrangian relaxed model*"
   ]
  },
  {
   "cell_type": "code",
   "execution_count": 53,
   "metadata": {},
   "outputs": [],
   "source": [
    "relaxed_solution = mip.read_mip_starts(\"clsp_-with-_lagrangian_relaxation.mst\")[0][0]\n",
    "mip.add_mip_start(relaxed_solution)"
   ]
  },
  {
   "cell_type": "code",
   "execution_count": 55,
   "metadata": {},
   "outputs": [
    {
     "name": "stdout",
     "output_type": "stream",
     "text": [
      "CPXPARAM_Read_DataCheck                          1\n",
      "2 of 9 MIP starts provided solutions.\n",
      "MIP start 'm8' defined initial solution with objective 17526.0100.\n",
      "\n",
      "Root node processing (before b&c):\n",
      "  Real time             =    0.00 sec. (0.11 ticks)\n",
      "Parallel b&c, 8 threads:\n",
      "  Real time             =    0.00 sec. (0.00 ticks)\n",
      "  Sync time (average)   =    0.00 sec.\n",
      "  Wait time (average)   =    0.00 sec.\n",
      "                          ------------\n",
      "Total (root+branch&cut) =    0.00 sec. (0.11 ticks)\n",
      "Optimal!\n",
      "8106.730000000002\n"
     ]
    }
   ],
   "source": [
    "new_solution = mip.solve(log_output=True)\n",
    "new_obj_val = new_solution.objective_value\n",
    "if new_obj_val == value: print(\"Optimal!\")\n",
    "print(new_obj_val)"
   ]
  },
  {
   "cell_type": "markdown",
   "metadata": {},
   "source": [
    "#### Summary: Solution Obtained is optimal since Lower Bound equals the obtained solution."
   ]
  }
 ],
 "metadata": {
  "kernelspec": {
   "display_name": "Python 3",
   "language": "python",
   "name": "python3"
  },
  "language_info": {
   "codemirror_mode": {
    "name": "ipython",
    "version": 3
   },
   "file_extension": ".py",
   "mimetype": "text/x-python",
   "name": "python",
   "nbconvert_exporter": "python",
   "pygments_lexer": "ipython3",
   "version": "3.7.5"
  }
 },
 "nbformat": 4,
 "nbformat_minor": 2
}
