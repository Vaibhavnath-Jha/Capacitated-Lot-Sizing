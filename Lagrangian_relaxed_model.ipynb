{
 "cells": [
  {
   "cell_type": "markdown",
   "metadata": {},
   "source": [
    "## Implementation of Lagrangian Relaxation Method for CLSP"
   ]
  },
  {
   "cell_type": "markdown",
   "metadata": {},
   "source": [
    "###### Relaxing the constraint which restrict the production capacity for each machine j at each period t, by introducing penalties in the objective function."
   ]
  },
  {
   "cell_type": "code",
   "execution_count": 1,
   "metadata": {},
   "outputs": [],
   "source": [
    "from docplex.mp.model import Model"
   ]
  },
  {
   "cell_type": "code",
   "execution_count": 2,
   "metadata": {},
   "outputs": [],
   "source": [
    "def Lagrangian_relaxation(Costs,Vars,no_of_items,no_of_machines,no_of_periods, max_iters=101):\n",
    "    \"\"\"\n",
    "    Function to solve CLSP after relaxing constraint_2\n",
    "    Parameter: \n",
    "                Costs: List of varied Costs, \n",
    "                Vars:  List of x_variables,\n",
    "    Returns: CPLEX SolveSolution type object\n",
    "    \"\"\"\n",
    "    with Model('CLSP -with- Lagrangian Relaxation') as mdl:\n",
    "        \n",
    "        Item_list = [i for i in range(1,no_of_items+1)]\n",
    "        Machine_list = [j for j in range(1,no_of_machines+1)]\n",
    "        Period_list = [t for t in range(1,no_of_periods+1)]\n",
    "\n",
    "        item_period_pair = [(i,t) for i in Item_list for t in Period_list]\n",
    "        machine_period_pair = [(j,t) for j in Machine_list for t in Period_list]\n",
    "        \n",
    "        # Assgining costs\n",
    "        Bij = Costs[0]\n",
    "        Cij = Costs[1]\n",
    "        Hi = Costs[2]\n",
    "        Dit = Costs[3]\n",
    "        Fij = Costs[4]\n",
    "        Sij = Costs[5]\n",
    "        Qj = Costs[6]\n",
    "        M = Costs[7]\n",
    "        \n",
    "        # variables\n",
    "        X_vars = mdl.integer_var_dict(Vars, lb=0, name='x')\n",
    "        Y_vars = mdl.binary_var_dict(Vars,name='y')\n",
    "        S_vars = mdl.integer_var_dict(item_period_pair, lb=0, name='s')\n",
    "        P_vars = mdl.continuous_var_dict(machine_period_pair, name='p')                     # Introducing the penalty variables\n",
    "\n",
    "        same_constraint_1 = mdl.add_constraints(mdl.sum(X_vars[i,j,t] for j in range(1,no_of_machines+1)) + (-S_vars[i,t] + S_vars[i,t-1] if t-1 > 0 else -S_vars[i,t]) == Dit[i,t] for i,t in S_vars)\n",
    "        updated_constraint_2 = mdl.add_constraints(mdl.sum(Bij[i,j]*X_vars[i,j,t] + Fij[i,j]*Y_vars[i,j,t] for i in range(1,no_of_items+1)) == Qj[j] - P_vars[j,t] for j,t in zip(Machine_list,Period_list))\n",
    "        same_constraint_3 = mdl.add_constraints(X_vars[i,j,t] <= M*Y_vars[i,j,t] for i,j,t in X_vars)\n",
    "\n",
    "        # lagrangian relaxation loop\n",
    "        epsilon = 1e-6\n",
    "        loop_count = 0\n",
    "        best_solution = 0\n",
    "        initial_multiplier = 1\n",
    "        multipliers = [initial_multiplier] * (no_of_machines*no_of_periods)\n",
    "        \n",
    "        Setup_Cost = mdl.sum(Sij[i,j]*Y_vars[i,j,t] for i,j,t in Y_vars) \n",
    "        Production_Cost = mdl.sum(Cij[i,j]*X_vars[i,j,t] for i,j,t in X_vars)\n",
    "        Inventory_Cost = mdl.sum(Hi[i]*S_vars[i,t] for i,t in S_vars)\n",
    "        total_cost = Setup_Cost + Production_Cost + Inventory_Cost\n",
    "\n",
    "        mdl.add_kpi(total_cost, \"Total Cost\")\n",
    "\n",
    "        while loop_count <= max_iters:\n",
    "            loop_count += 1\n",
    "            # rebuilt at each loop iteration\n",
    "            total_penalty = mdl.sum(multipliers[j]*P_vars[j,t] for j,t in P_vars)\n",
    "            mdl.minimize(total_cost + total_penalty)\n",
    "            solution = mdl.solve()\n",
    "            if not solution:\n",
    "                print(\"*** solve fails, stopping at iteration: %d\" % loop_count)\n",
    "                break\n",
    "            best_solution = solution.objective_value\n",
    "            pen = solution.get_value_dict(P_vars)\n",
    "            penalties = [pen[i] for i in pen]\n",
    "            print('%d> new lagrangian iteration:\\n\\t obj=%g, m=%s, p=%s' % (loop_count, best_solution, str(multipliers), str(penalties)))\n",
    "\n",
    "            do_stop = True\n",
    "            justifier = 0\n",
    "            for k in range(no_of_machines*no_of_periods):\n",
    "                penalized_violation = penalties[k] * multipliers[k]\n",
    "                if penalized_violation >= epsilon:\n",
    "                    do_stop = False\n",
    "                    justifier = penalized_violation\n",
    "                    break\n",
    "\n",
    "            if do_stop:\n",
    "                print(\"* Lagrangian relaxation succeeds, best_solution={:g}, penalty={:g}, #iterations={}\".format(best_solution, total_penalty.solution_value, loop_count))\n",
    "                break\n",
    "            else:\n",
    "                # update multipliers and start loop again.\n",
    "                scale_factor = 1.0 / float(loop_count)\n",
    "                multipliers = [max(multipliers[i] - scale_factor * penalties[i], 0.) for i in range(no_of_machines*no_of_periods)]\n",
    "                print('{0}> -- loop continues, m={1!s}, justifier={2:g}'.format(loop_count, multipliers, justifier))\n",
    "\n",
    "    return solution"
   ]
  }
 ],
 "metadata": {
  "kernelspec": {
   "display_name": "Python 3",
   "language": "python",
   "name": "python3"
  },
  "language_info": {
   "codemirror_mode": {
    "name": "ipython",
    "version": 3
   },
   "file_extension": ".py",
   "mimetype": "text/x-python",
   "name": "python",
   "nbconvert_exporter": "python",
   "pygments_lexer": "ipython3",
   "version": "3.7.5"
  }
 },
 "nbformat": 4,
 "nbformat_minor": 2
}
