{
 "cells": [
  {
   "cell_type": "code",
   "execution_count": 7,
   "metadata": {},
   "outputs": [],
   "source": [
    "def checker(solution,X,Y):\n",
    "    solution_y = solution.get_value_dict(Y)\n",
    "    nonzero_allocation = []\n",
    "    for keys in solution_y:\n",
    "        if solution_y[keys] == 1:\n",
    "            nonzero_allocation.append(keys)\n",
    "        else:\n",
    "            pass\n",
    "    solution_x = solution.get_value_dict(X)\n",
    "    nonzero_amount = []\n",
    "    for keys in solution_x:\n",
    "        if solution_x[keys] != 0:\n",
    "            nonzero_amount.append(keys)\n",
    "        else:\n",
    "            pass\n",
    "    if nonzero_allocation == nonzero_amount: \n",
    "        return \"All cases matched.\"\n",
    "    else:\n",
    "        return \"Failed\""
   ]
  }
 ],
 "metadata": {
  "kernelspec": {
   "display_name": "Python 3",
   "language": "python",
   "name": "python3"
  },
  "language_info": {
   "codemirror_mode": {
    "name": "ipython",
    "version": 3
   },
   "file_extension": ".py",
   "mimetype": "text/x-python",
   "name": "python",
   "nbconvert_exporter": "python",
   "pygments_lexer": "ipython3",
   "version": "3.7.5"
  }
 },
 "nbformat": 4,
 "nbformat_minor": 2
}
